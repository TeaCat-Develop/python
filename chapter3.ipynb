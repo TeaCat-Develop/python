{
  "nbformat": 4,
  "nbformat_minor": 0,
  "metadata": {
    "colab": {
      "provenance": [],
      "authorship_tag": "ABX9TyNtp0zEE79Tzk+Z8qMlK+Vk",
      "include_colab_link": true
    },
    "kernelspec": {
      "name": "python3",
      "display_name": "Python 3"
    },
    "language_info": {
      "name": "python"
    }
  },
  "cells": [
    {
      "cell_type": "markdown",
      "metadata": {
        "id": "view-in-github",
        "colab_type": "text"
      },
      "source": [
        "<a href=\"https://colab.research.google.com/github/TeaCat-Develop/python/blob/main/chapter3.ipynb\" target=\"_parent\"><img src=\"https://colab.research.google.com/assets/colab-badge.svg\" alt=\"Open In Colab\"/></a>"
      ]
    },
    {
      "cell_type": "code",
      "execution_count": 8,
      "metadata": {
        "colab": {
          "base_uri": "https://localhost:8080/"
        },
        "id": "QswcihFDYPiA",
        "outputId": "090acc30-b30b-4028-9475-386d5e252e0a"
      },
      "outputs": [
        {
          "output_type": "stream",
          "name": "stdout",
          "text": [
            "진짜 안보여?\n"
          ]
        }
      ],
      "source": [
        "# 주석은 이렇게 하는거다\n",
        "print(\"진짜 안보여?\")\n",
        "# print(\"신기하네. ctrl /로 주석처리 가능해\")"
      ]
    },
    {
      "cell_type": "code",
      "source": [
        "# \"\"\" \"\"\"\n",
        "# 코랩에서는 \"\"\" \"\"\" 형태의 주석이 작동안함!\n",
        "print(\"진짜 안보여?\")\n",
        "# print(\"신기하네. ctrl /로 주석처리 가능해\")"
      ],
      "metadata": {
        "colab": {
          "base_uri": "https://localhost:8080/"
        },
        "id": "bWsUdbU0ZE1Z",
        "outputId": "c0a907d9-1766-4282-8b77-74aa730e8010"
      },
      "execution_count": 10,
      "outputs": [
        {
          "output_type": "stream",
          "name": "stdout",
          "text": [
            "진짜 안보여?\n"
          ]
        }
      ]
    },
    {
      "cell_type": "markdown",
      "source": [
        "##사칙연산\n",
        "더하기 : +\n",
        "\n",
        "빼기 : -\n",
        "\n",
        "곱하기 : *\n",
        "\n",
        "나누기 :\n",
        "*   / : 우리가 알고 있는 나누기와 동일한 기능 (예 5/2 = 2.5)\n",
        "*   // : 몫을 반환 (예 5/2 -2)\n",
        "*   % : 나머지를 반환 (예 5/2 =1)\n",
        "\n",
        "\n",
        "거듭제곱 : **\n",
        "\n",
        "더하기"
      ],
      "metadata": {
        "id": "acByavOsaVQ3"
      }
    },
    {
      "cell_type": "code",
      "source": [
        "# 더하기\n",
        "print(3+2)"
      ],
      "metadata": {
        "colab": {
          "base_uri": "https://localhost:8080/"
        },
        "id": "SNUC3Z7WY-lo",
        "outputId": "3de3cce3-6122-48b9-f099-e619d5a56570"
      },
      "execution_count": 15,
      "outputs": [
        {
          "output_type": "stream",
          "name": "stdout",
          "text": [
            "5\n"
          ]
        }
      ]
    },
    {
      "cell_type": "code",
      "source": [
        "# 빼기\n",
        "print(3-1)"
      ],
      "metadata": {
        "colab": {
          "base_uri": "https://localhost:8080/"
        },
        "id": "qDm9kvYebrjn",
        "outputId": "eec27b79-779b-4735-8bdb-48d7ef0e277f"
      },
      "execution_count": 17,
      "outputs": [
        {
          "output_type": "stream",
          "name": "stdout",
          "text": [
            "2\n"
          ]
        }
      ]
    },
    {
      "cell_type": "code",
      "source": [
        "# 곱하기\n",
        "print(3*2)"
      ],
      "metadata": {
        "colab": {
          "base_uri": "https://localhost:8080/"
        },
        "id": "uIKvoTzkbvQc",
        "outputId": "f3ab7fe9-850b-4d63-8c08-ed1c49b8b6fc"
      },
      "execution_count": 19,
      "outputs": [
        {
          "output_type": "stream",
          "name": "stdout",
          "text": [
            "6\n"
          ]
        }
      ]
    },
    {
      "cell_type": "code",
      "source": [
        "3*2"
      ],
      "metadata": {
        "colab": {
          "base_uri": "https://localhost:8080/"
        },
        "id": "pZ_kn7Fdb3mJ",
        "outputId": "61309d26-e9e1-4777-a34b-ae3268a3a51c"
      },
      "execution_count": 21,
      "outputs": [
        {
          "output_type": "execute_result",
          "data": {
            "text/plain": [
              "6"
            ]
          },
          "metadata": {},
          "execution_count": 21
        }
      ]
    },
    {
      "cell_type": "code",
      "source": [
        "# /\n",
        "print(7/2)\n",
        "\n",
        "# //\n",
        "\n",
        "print(7//2)\n",
        "\n",
        "# %\n",
        "print(7%2)"
      ],
      "metadata": {
        "colab": {
          "base_uri": "https://localhost:8080/"
        },
        "id": "egYzN0Web-kk",
        "outputId": "25a30af9-3d4b-4b41-e0d4-801a9b24f338"
      },
      "execution_count": 29,
      "outputs": [
        {
          "output_type": "stream",
          "name": "stdout",
          "text": [
            "3.5\n",
            "3\n",
            "1\n"
          ]
        }
      ]
    },
    {
      "cell_type": "code",
      "source": [
        "# 내장함수 > 파이썬의 장점\n",
        "# 자주 쓰는 기능을 코드로 구현해서 실행 명령어만 입력하면 작동하게 만듦\n",
        "# method와 함수의 차이점 나중에 알아보기"
      ],
      "metadata": {
        "id": "rMNXmhxpcXjw"
      },
      "execution_count": 30,
      "outputs": []
    },
    {
      "cell_type": "markdown",
      "source": [
        "내장함수 : divmod\n",
        "\n",
        "> 내장함수: 자주 사용하는 기능을 미리 만들어 놓은 것을 내장함수라고 함.\n",
        "\n",
        "**divmod** : 몫과 나머지를 동시에 구해준다."
      ],
      "metadata": {
        "id": "rO3J_Xdfc3I8"
      }
    },
    {
      "cell_type": "code",
      "source": [
        "divmod(3,2)\n",
        "print(divmod(3,2))\n",
        "print(divmod(7,4))\n",
        "print(divmod(13,2))\n",
        "print(divmod(19,4))\n",
        "print(divmod(15,5))\n",
        "\n",
        "print(\"(\", 7//4, \",\", 7%4, \")\")\n"
      ],
      "metadata": {
        "colab": {
          "base_uri": "https://localhost:8080/"
        },
        "id": "zlHDhAY4dQUZ",
        "outputId": "85e33930-d857-41fc-8d2a-98faddd77e77"
      },
      "execution_count": 42,
      "outputs": [
        {
          "output_type": "stream",
          "name": "stdout",
          "text": [
            "(1, 1)\n",
            "(1, 3)\n",
            "(6, 1)\n",
            "(4, 3)\n",
            "(3, 0)\n",
            "( 1 , 3 )\n"
          ]
        }
      ]
    },
    {
      "cell_type": "markdown",
      "source": [
        "### 괄호\n",
        "\n",
        "수학에서 사용되는 괄호와 동일한 기능\n",
        "\n",
        "() : 괄호 안에 있는 것을 먼저 계산\n",
        "\n",
        "사칙연산 순서 : 괄호 -> 곱셈, 나눗셈 -> 덧셈, 뺄셈"
      ],
      "metadata": {
        "id": "IkxGWH9deOso"
      }
    },
    {
      "cell_type": "code",
      "source": [
        "3+2*4"
      ],
      "metadata": {
        "colab": {
          "base_uri": "https://localhost:8080/"
        },
        "id": "l2SPxv2BdgNT",
        "outputId": "5bc028da-968b-44ed-c4cd-cfeb024d75d9"
      },
      "execution_count": 45,
      "outputs": [
        {
          "output_type": "execute_result",
          "data": {
            "text/plain": [
              "11"
            ]
          },
          "metadata": {},
          "execution_count": 45
        }
      ]
    },
    {
      "cell_type": "code",
      "source": [
        "(3+2)*4"
      ],
      "metadata": {
        "colab": {
          "base_uri": "https://localhost:8080/"
        },
        "id": "Bh49LceoemDN",
        "outputId": "13a6054b-fbff-47c5-cf91-1fd2d515c1c4"
      },
      "execution_count": 46,
      "outputs": [
        {
          "output_type": "execute_result",
          "data": {
            "text/plain": [
              "20"
            ]
          },
          "metadata": {},
          "execution_count": 46
        }
      ]
    }
  ]
}